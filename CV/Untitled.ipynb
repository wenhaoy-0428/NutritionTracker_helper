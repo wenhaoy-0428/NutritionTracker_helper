{
 "cells": [
  {
   "cell_type": "code",
   "execution_count": 11,
   "id": "16d11445-bd7f-4688-a6a8-3f83a7b59821",
   "metadata": {},
   "outputs": [],
   "source": [
    "import torch\n",
    "from torchvision import models, transforms\n",
    "from torchvision import transforms\n",
    "from PIL import Image"
   ]
  },
  {
   "cell_type": "code",
   "execution_count": 7,
   "id": "73343601-3f5a-4f4b-9217-8b52444b52a0",
   "metadata": {},
   "outputs": [],
   "source": [
    "model = models.googlenet(weights='DEFAULT')"
   ]
  },
  {
   "cell_type": "code",
   "execution_count": 39,
   "id": "76b269d9-a7f6-4901-ba64-050273819643",
   "metadata": {},
   "outputs": [],
   "source": [
    "model.eval()\n",
    "\n",
    "preprocess = transforms.Compose([\n",
    "    transforms.Resize(256),\n",
    "    transforms.CenterCrop(224),\n",
    "    transforms.ToTensor(),\n",
    "    transforms.Normalize(mean=[0.485, 0.456, 0.406], std=[0.229, 0.224, 0.225]),\n",
    "])"
   ]
  },
  {
   "cell_type": "code",
   "execution_count": 41,
   "id": "0ffa34c5-d923-48a0-b48a-6a8bce5ac701",
   "metadata": {},
   "outputs": [
    {
     "name": "stdout",
     "output_type": "stream",
     "text": [
      "MPS (Metal Performance Shaders) is available.\n",
      "pineapple 0.9565259218215942\n",
      "jackfruit 0.011425141245126724\n",
      "strawberry 0.00460800202563405\n",
      "custard apple 0.002535000443458557\n",
      "daisy 0.0012257859343662858\n"
     ]
    }
   ],
   "source": [
    "input_image = Image.open(\"pineapple.jpeg\")\n",
    "input_tensor = preprocess(input_image)\n",
    "input_batch = input_tensor.unsqueeze(0)\n",
    "\n",
    "device = \"cpu\"\n",
    "if torch.backends.mps.is_available():\n",
    "    print(\"MPS (Metal Performance Shaders) is available.\")\n",
    "    device = torch.device(\"mps\")\n",
    "\n",
    "with torch.no_grad():\n",
    "    output = model(input_batch)\n",
    "\n",
    "probabilities = torch.nn.functional.softmax(output[0], dim=0)\n",
    "\n",
    "with open(\"imagenet_classes.txt\", \"r\") as f:\n",
    "    categories = [s.strip() for s in f.readlines()]\n",
    "\n",
    "top5_prob, top5_catid = torch.topk(probabilities, 5)\n",
    "\n",
    "for i in range(top5_prob.size(0)):\n",
    "    print(categories[top5_catid[i]], top5_prob[i].item())"
   ]
  },
  {
   "cell_type": "code",
   "execution_count": 18,
   "id": "4ffc98ce-4305-40b2-9ea4-b70b0e9c994c",
   "metadata": {},
   "outputs": [
    {
     "name": "stdout",
     "output_type": "stream",
     "text": [
      "New shape: torch.Size([1, 3, 224, 224])\n"
     ]
    }
   ],
   "source": []
  },
  {
   "cell_type": "code",
   "execution_count": 32,
   "id": "ad879109-4b78-41d1-a739-48a0a5f18308",
   "metadata": {},
   "outputs": [
    {
     "name": "stdout",
     "output_type": "stream",
     "text": [
      "MPS (Metal Performance Shaders) is available.\n"
     ]
    }
   ],
   "source": []
  },
  {
   "cell_type": "code",
   "execution_count": 33,
   "id": "4981ae3c-633d-4a97-bcdc-fc11704054d7",
   "metadata": {},
   "outputs": [],
   "source": []
  },
  {
   "cell_type": "code",
   "execution_count": 25,
   "id": "a12704b6-1e97-4cb4-b0b2-03e5c657965a",
   "metadata": {},
   "outputs": [],
   "source": []
  },
  {
   "cell_type": "code",
   "execution_count": 34,
   "id": "49895237-8842-4d95-894e-695bf2dc9358",
   "metadata": {},
   "outputs": [],
   "source": []
  },
  {
   "cell_type": "code",
   "execution_count": 35,
   "id": "9ffa62b4-39b4-4fb1-89e3-c8edfecbb12f",
   "metadata": {},
   "outputs": [],
   "source": []
  },
  {
   "cell_type": "code",
   "execution_count": 36,
   "id": "470e9f25-651d-472b-b857-24e5d485e1da",
   "metadata": {},
   "outputs": [
    {
     "name": "stdout",
     "output_type": "stream",
     "text": [
      "tiger 0.786907970905304\n",
      "tiger cat 0.13122421503067017\n",
      "jaguar 0.008193816058337688\n",
      "leopard 0.003371241269633174\n",
      "basketball 0.0024060960859060287\n"
     ]
    }
   ],
   "source": []
  }
 ],
 "metadata": {
  "kernelspec": {
   "display_name": "Python 3 (ipykernel)",
   "language": "python",
   "name": "python3"
  },
  "language_info": {
   "codemirror_mode": {
    "name": "ipython",
    "version": 3
   },
   "file_extension": ".py",
   "mimetype": "text/x-python",
   "name": "python",
   "nbconvert_exporter": "python",
   "pygments_lexer": "ipython3",
   "version": "3.10.15"
  }
 },
 "nbformat": 4,
 "nbformat_minor": 5
}
